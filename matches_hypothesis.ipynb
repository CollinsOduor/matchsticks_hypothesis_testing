{
 "cells": [
  {
   "cell_type": "code",
   "execution_count": 1,
   "metadata": {},
   "outputs": [],
   "source": [
    "sample_1 = [63, 63, 64, 62, 65, 59, 61, 62, 60, 60]\n",
    "sample_2 = [59, 62, 59, 58, 59, 53, 76, 69, 54, 59]\n",
    "sample_3 = [59, 63, 54, 63, 59, 67, 62, 54, 59, 58]\n",
    "\n",
    "\n",
    "#I obtained samples from diferent stores in Nairobi and manually counted the sticks in each box.\n",
    "#In all, I bought 10 packs (each containing 10 boxes) for this experiment\n",
    "#Each sample represents a pack of ten boxes, while each entry in the sample array represents the number of sticks in every box in a given pack."
   ]
  },
  {
   "cell_type": "code",
   "execution_count": 2,
   "metadata": {},
   "outputs": [],
   "source": [
    "#Make sure that all samples contain 10 boxes\n",
    "assert len(sample_1) == len(sample_2) == len(sample_3) ==10"
   ]
  },
  {
   "cell_type": "markdown",
   "metadata": {},
   "source": [
    "The manufacturer claims that each box contains at least 60 matchsticks. We will have this as the null, and perform eperiments to put the claim to test.\n",
    "\n",
    "Null hypotheses: a machbox contains at least 60 match sticks\n",
    "Alternative: a matchbox contains less than 60 match sticks\n",
    "\n",
    "Let X represent the number of sticks in one matchbox\\\n",
    "H<sub>0</sub> : X >= 60\\\n",
    "H<sub>1</sub> : X > 60"
   ]
  },
  {
   "cell_type": "code",
   "execution_count": 3,
   "metadata": {},
   "outputs": [],
   "source": [
    "#import the necessary libraries\n",
    "#pandas will be important for managing the on-memory dataframe\n",
    "#numpy will be used for numerical computations\n",
    "#matplotlib will be used for plotting figures\n",
    "import pandas as pd\n",
    "import numpy as np\n",
    "import matplotlib.pyplot as plt"
   ]
  },
  {
   "cell_type": "code",
   "execution_count": 4,
   "metadata": {},
   "outputs": [],
   "source": [
    "#enssure that the generated plots will be displayed in the notebook\n",
    "%matplotlib inline"
   ]
  },
  {
   "cell_type": "code",
   "execution_count": 5,
   "metadata": {},
   "outputs": [],
   "source": [
    "#unbox the samples\n",
    "full_sample = [*sample_1, *sample_2, *sample_3]"
   ]
  },
  {
   "cell_type": "code",
   "execution_count": 6,
   "metadata": {},
   "outputs": [],
   "source": [
    "#build the on-memory dataframe using pandas\n",
    "df = pd.DataFrame({'no_of_sticks': full_sample})"
   ]
  },
  {
   "cell_type": "code",
   "execution_count": 7,
   "metadata": {},
   "outputs": [
    {
     "data": {
      "text/html": [
       "<div>\n",
       "<style scoped>\n",
       "    .dataframe tbody tr th:only-of-type {\n",
       "        vertical-align: middle;\n",
       "    }\n",
       "\n",
       "    .dataframe tbody tr th {\n",
       "        vertical-align: top;\n",
       "    }\n",
       "\n",
       "    .dataframe thead th {\n",
       "        text-align: right;\n",
       "    }\n",
       "</style>\n",
       "<table border=\"1\" class=\"dataframe\">\n",
       "  <thead>\n",
       "    <tr style=\"text-align: right;\">\n",
       "      <th></th>\n",
       "      <th>no_of_sticks</th>\n",
       "    </tr>\n",
       "  </thead>\n",
       "  <tbody>\n",
       "    <tr>\n",
       "      <th>0</th>\n",
       "      <td>63</td>\n",
       "    </tr>\n",
       "    <tr>\n",
       "      <th>1</th>\n",
       "      <td>63</td>\n",
       "    </tr>\n",
       "    <tr>\n",
       "      <th>2</th>\n",
       "      <td>64</td>\n",
       "    </tr>\n",
       "    <tr>\n",
       "      <th>3</th>\n",
       "      <td>62</td>\n",
       "    </tr>\n",
       "    <tr>\n",
       "      <th>4</th>\n",
       "      <td>65</td>\n",
       "    </tr>\n",
       "  </tbody>\n",
       "</table>\n",
       "</div>"
      ],
      "text/plain": [
       "   no_of_sticks\n",
       "0            63\n",
       "1            63\n",
       "2            64\n",
       "3            62\n",
       "4            65"
      ]
     },
     "execution_count": 7,
     "metadata": {},
     "output_type": "execute_result"
    }
   ],
   "source": [
    "#peek into the generated dataframe\n",
    "df.head()"
   ]
  },
  {
   "cell_type": "code",
   "execution_count": 8,
   "metadata": {},
   "outputs": [],
   "source": [
    "#Take 20 samples from the sample pool, generate the mean(expected number of sticks for each matchbox)\n",
    "#This will be repeated 10000 times, so as to get as close to the population parameter as possible. This is in line with the law of large numbers\n",
    "sample = []\n",
    "for _ in range(10000):\n",
    "    bootstrap = df.sample(20, replace=True)\n",
    "    sample.append(bootstrap['no_of_sticks'].mean())"
   ]
  },
  {
   "cell_type": "code",
   "execution_count": 9,
   "metadata": {},
   "outputs": [
    {
     "data": {
      "text/plain": [
       "(60.823609999999995, 1.0264906565088645)"
      ]
     },
     "execution_count": 9,
     "metadata": {},
     "output_type": "execute_result"
    }
   ],
   "source": [
    "#print the mean and standard deviation from the bootstrapped sample\n",
    "np.mean(sample), np.std(sample)"
   ]
  },
  {
   "cell_type": "code",
   "execution_count": 10,
   "metadata": {},
   "outputs": [],
   "source": [
    "#We expect that the samples should generate a normal distribution\n",
    "#So we generate a normal distribution whose mean is the the value that is closest to the alternative while still being under the null, and standrd deviation equal to the one from the bootstrapped sample\n",
    "random = np.random.normal(loc=60, size=1000000, scale=np.std(sample))"
   ]
  },
  {
   "cell_type": "code",
   "execution_count": 11,
   "metadata": {},
   "outputs": [
    {
     "data": {
      "image/png": "[encoded data removed]",
      "text/plain": [
       "<Figure size 1080x576 with 1 Axes>"
      ]
     },
     "metadata": {
      "needs_background": "light"
     },
     "output_type": "display_data"
    }
   ],
   "source": [
    "#We plot the generated distribution and find how plausible it is that the sample statistic was generted from the null\n",
    "plt.figure(figsize=(15, 8));\n",
    "plt.hist(random);\n",
    "plt.title('Distribution of number of matchsticks in every matchbox');\n",
    "plt.xlabel('Expected number of sticks in a matchbox');\n",
    "plt.ylabel('Frequency');\n",
    "plt.axvline(x=np.mean(sample), color='r');"
   ]
  },
  {
   "cell_type": "markdown",
   "metadata": {},
   "source": [
    "The plot above suggests that our sample statistic is very much in the expected range. It could, therefore, be true that each matchbox contains at least 60 sticks. We evaluate this more scientifically using p-value in the cell below."
   ]
  },
  {
   "cell_type": "code",
   "execution_count": 12,
   "metadata": {},
   "outputs": [
    {
     "data": {
      "text/plain": [
       "0.789208"
      ]
     },
     "execution_count": 12,
     "metadata": {},
     "output_type": "execute_result"
    }
   ],
   "source": [
    "#We want to obtain the proportion of random values generated in our Gaussian distribution that are greater than the sample mean\n",
    "#This computation will return the p-value\n",
    "(random < np.mean(sample)).mean()"
   ]
  },
  {
   "cell_type": "markdown",
   "metadata": {},
   "source": [
    "Such a high p-value provides support for the null hypothesis. We therefore fail to reject the null in this case and conclude that each matchbox contains at least 60 sticks. The boxes that do not conform to this are probably due to an element of randomness."
   ]
  }
 ],
 "metadata": {
  "kernelspec": {
   "display_name": "Python 3",
   "language": "python",
   "name": "python3"
  },
  "language_info": {
   "codemirror_mode": {
    "name": "ipython",
    "version": 3
   },
   "file_extension": ".py",
   "mimetype": "text/x-python",
   "name": "python",
   "nbconvert_exporter": "python",
   "pygments_lexer": "ipython3",
   "version": "3.8.5"
  }
 },
 "nbformat": 4,
 "nbformat_minor": 4
}
